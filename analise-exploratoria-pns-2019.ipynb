{
 "cells": [
  {
   "cell_type": "markdown",
   "id": "57a705e9",
   "metadata": {},
   "source": [
    "Imports"
   ]
  },
  {
   "cell_type": "code",
   "execution_count": 2,
   "id": "20b274f0",
   "metadata": {},
   "outputs": [],
   "source": [
    "import pandas as pd \n",
    "import numpy as np "
   ]
  },
  {
   "cell_type": "markdown",
   "id": "a9cda4dc",
   "metadata": {},
   "source": [
    "Read data frame"
   ]
  },
  {
   "cell_type": "code",
   "execution_count": 3,
   "id": "df00387a",
   "metadata": {},
   "outputs": [],
   "source": [
    "file = 'Data/PNS_2019.txt'\n",
    "\n",
    "def encodeCol(col, len):\n",
    "  col = col -1\n",
    "  return (col, col + len)\n",
    "\n",
    "colunas_dict = {\n",
    "    #Indentificacao e Controle\n",
    "    'id_uf': [1, 2],\n",
    "    'tipo_situacao_censitaria':[31,1],\n",
    "    #'referencia': [25, 4],\n",
    "    #'moradores': [29, 2],\n",
    "    #Questionario do Morador (Caracteristica Gerais)\n",
    "    #'sexo': [108, 1],\n",
    "    #'raca': [120, 1],\n",
    "    #Atividade Sexual\n",
    "    'orientacao_sexual': [1304, 1],\n",
    "    }\n",
    "\n",
    "col_names = list(colunas_dict.keys())\n",
    "col_specs = [encodeCol(colunas_dict[i][0], colunas_dict[i][1]) for i in list(colunas_dict.keys())]\n",
    "\n",
    "df_raw = pd.read_fwf(file, colspecs = col_specs, names = col_names)"
   ]
  },
  {
   "cell_type": "code",
   "execution_count": 4,
   "id": "8ee4483f",
   "metadata": {},
   "outputs": [
    {
     "data": {
      "text/html": [
       "<div>\n",
       "<style scoped>\n",
       "    .dataframe tbody tr th:only-of-type {\n",
       "        vertical-align: middle;\n",
       "    }\n",
       "\n",
       "    .dataframe tbody tr th {\n",
       "        vertical-align: top;\n",
       "    }\n",
       "\n",
       "    .dataframe thead th {\n",
       "        text-align: right;\n",
       "    }\n",
       "</style>\n",
       "<table border=\"1\" class=\"dataframe\">\n",
       "  <thead>\n",
       "    <tr style=\"text-align: right;\">\n",
       "      <th></th>\n",
       "      <th>id_uf</th>\n",
       "      <th>tipo_situacao_censitaria</th>\n",
       "      <th>orientacao_sexual</th>\n",
       "    </tr>\n",
       "  </thead>\n",
       "  <tbody>\n",
       "    <tr>\n",
       "      <th>56</th>\n",
       "      <td>11</td>\n",
       "      <td>1</td>\n",
       "      <td>3.0</td>\n",
       "    </tr>\n",
       "    <tr>\n",
       "      <th>76</th>\n",
       "      <td>11</td>\n",
       "      <td>1</td>\n",
       "      <td>5.0</td>\n",
       "    </tr>\n",
       "    <tr>\n",
       "      <th>286</th>\n",
       "      <td>11</td>\n",
       "      <td>1</td>\n",
       "      <td>2.0</td>\n",
       "    </tr>\n",
       "    <tr>\n",
       "      <th>445</th>\n",
       "      <td>11</td>\n",
       "      <td>1</td>\n",
       "      <td>3.0</td>\n",
       "    </tr>\n",
       "    <tr>\n",
       "      <th>470</th>\n",
       "      <td>11</td>\n",
       "      <td>1</td>\n",
       "      <td>3.0</td>\n",
       "    </tr>\n",
       "    <tr>\n",
       "      <th>...</th>\n",
       "      <td>...</td>\n",
       "      <td>...</td>\n",
       "      <td>...</td>\n",
       "    </tr>\n",
       "    <tr>\n",
       "      <th>293389</th>\n",
       "      <td>53</td>\n",
       "      <td>2</td>\n",
       "      <td>5.0</td>\n",
       "    </tr>\n",
       "    <tr>\n",
       "      <th>293456</th>\n",
       "      <td>53</td>\n",
       "      <td>2</td>\n",
       "      <td>3.0</td>\n",
       "    </tr>\n",
       "    <tr>\n",
       "      <th>293516</th>\n",
       "      <td>53</td>\n",
       "      <td>2</td>\n",
       "      <td>5.0</td>\n",
       "    </tr>\n",
       "    <tr>\n",
       "      <th>293547</th>\n",
       "      <td>53</td>\n",
       "      <td>2</td>\n",
       "      <td>2.0</td>\n",
       "    </tr>\n",
       "    <tr>\n",
       "      <th>293650</th>\n",
       "      <td>53</td>\n",
       "      <td>2</td>\n",
       "      <td>5.0</td>\n",
       "    </tr>\n",
       "  </tbody>\n",
       "</table>\n",
       "<p>2403 rows × 3 columns</p>\n",
       "</div>"
      ],
      "text/plain": [
       "        id_uf  tipo_situacao_censitaria  orientacao_sexual\n",
       "56         11                         1                3.0\n",
       "76         11                         1                5.0\n",
       "286        11                         1                2.0\n",
       "445        11                         1                3.0\n",
       "470        11                         1                3.0\n",
       "...       ...                       ...                ...\n",
       "293389     53                         2                5.0\n",
       "293456     53                         2                3.0\n",
       "293516     53                         2                5.0\n",
       "293547     53                         2                2.0\n",
       "293650     53                         2                5.0\n",
       "\n",
       "[2403 rows x 3 columns]"
      ]
     },
     "execution_count": 4,
     "metadata": {},
     "output_type": "execute_result"
    }
   ],
   "source": [
    "df_nao_hetero = df_raw.loc[(df_raw[\"orientacao_sexual\"] != 1) & (df_raw[\"orientacao_sexual\"] != 6)]\n",
    "df_nao_hetero = df_nao_hetero.dropna(subset=['orientacao_sexual'])\n",
    "df_nao_hetero"
   ]
  },
  {
   "cell_type": "code",
   "execution_count": null,
   "id": "84dd3918",
   "metadata": {},
   "outputs": [],
   "source": []
  }
 ],
 "metadata": {
  "kernelspec": {
   "display_name": "Python 3 (ipykernel)",
   "language": "python",
   "name": "python3"
  },
  "language_info": {
   "codemirror_mode": {
    "name": "ipython",
    "version": 3
   },
   "file_extension": ".py",
   "mimetype": "text/x-python",
   "name": "python",
   "nbconvert_exporter": "python",
   "pygments_lexer": "ipython3",
   "version": "3.9.13"
  }
 },
 "nbformat": 4,
 "nbformat_minor": 5
}
